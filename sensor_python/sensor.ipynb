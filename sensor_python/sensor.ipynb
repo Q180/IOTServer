{
 "cells": [
  {
   "cell_type": "code",
   "execution_count": null,
   "metadata": {
    "collapsed": true,
    "pycharm": {
     "is_executing": true
    }
   },
   "outputs": [],
   "source": [
    "import requests\n",
    "import time\n",
    "import math\n",
    "\n",
    "# host = \"http://localhost:8080\"\n",
    "host = \"http://8.130.179.47:8080\"\n",
    "sensorURL1 = host + \"/SensorData1\"\n",
    "sensorURL2 = host + \"/SensorData2\"\n",
    "sensorURL3 = host + \"/SensorData3\"\n",
    "sensorURL4 = host + \"/SensorData4\"\n",
    "\n",
    "msg = 1\n",
    "i = 0\n",
    "while(msg == 1):\n",
    "    requests.post(sensorURL1,data={\n",
    "        'name': 'sensor1',\n",
    "        'value': str(6 * math.sin(i*6) + 10).split(\".\")[0],\n",
    "        'timestamp': str(time.time()*1000).split(\".\")[0]\n",
    "    })\n",
    "    requests.post(sensorURL2,data={\n",
    "        'name': 'sensor2',\n",
    "        'value': str(30 * math.sin(i*6) + 50).split(\".\")[0],\n",
    "        'timestamp': str(time.time()*1000).split(\".\")[0]\n",
    "    })\n",
    "    requests.post(sensorURL3,data={\n",
    "        'name': 'sensor3',\n",
    "        'value': str(6 * math.sin(i*6) + 10).split(\".\")[0],\n",
    "        'timestamp': str(time.time()*1000).split(\".\")[0]\n",
    "    })\n",
    "    requests.post(sensorURL4,data={\n",
    "        'name': 'sensor4',\n",
    "        'value': str(6 * math.sin(i*6) + 10).split(\".\")[0],\n",
    "        'timestamp': str(time.time()*1000).split(\".\")[0]\n",
    "    })\n",
    "    i += 1\n",
    "    time.sleep(1)\n",
    "    # msg = input(\"是否继续（0/1）：\")"
   ]
  }
 ],
 "metadata": {
  "kernelspec": {
   "display_name": "Python 3",
   "language": "python",
   "name": "python3"
  },
  "language_info": {
   "codemirror_mode": {
    "name": "ipython",
    "version": 2
   },
   "file_extension": ".py",
   "mimetype": "text/x-python",
   "name": "python",
   "nbconvert_exporter": "python",
   "pygments_lexer": "ipython2",
   "version": "2.7.6"
  }
 },
 "nbformat": 4,
 "nbformat_minor": 0
}
